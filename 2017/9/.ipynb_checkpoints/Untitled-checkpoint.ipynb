{
 "cells": [
  {
   "cell_type": "code",
   "execution_count": 1,
   "metadata": {},
   "outputs": [],
   "source": [
    "class Stack:\n",
    "    def __init__(self):\n",
    "        self.items = []\n",
    "    def push(self, item):\n",
    "        self.items.append(item)\n",
    "    def pop(self):\n",
    "        return self.items.pop()\n",
    "    def isEmpty(self):\n",
    "        return self.items == []\n",
    "    def peek(self):\n",
    "        return self.items[len(self.items)-1]\n",
    "    def size(self):\n",
    "        return len(self.items)"
   ]
  },
  {
   "cell_type": "code",
   "execution_count": 2,
   "metadata": {},
   "outputs": [],
   "source": [
    "def remove_exclamations(str):\n",
    "    excl_ind = str.find('!')\n",
    "    if excl_ind == -1:\n",
    "        return str\n",
    "    else:\n",
    "        prefix = str[:excl_ind]\n",
    "        suffix = remove_exclamations(str[(excl_ind+2):])\n",
    "        return prefix + suffix"
   ]
  },
  {
   "cell_type": "code",
   "execution_count": 3,
   "metadata": {},
   "outputs": [],
   "source": [
    "def remove_garbage(str):\n",
    "    garbage_entry = str.find('<')\n",
    "    garbage_exit = str.find('>')\n",
    "    if garbage_entry == -1:\n",
    "        return str\n",
    "    else:\n",
    "        prefix = str[:garbage_entry]\n",
    "        suffix = str[(garbage_exit+1):]\n",
    "        return remove_garbage(prefix + suffix)\n"
   ]
  },
  {
   "cell_type": "code",
   "execution_count": 28,
   "metadata": {},
   "outputs": [],
   "source": [
    "def process_brackets(str, stack, val = None, sum = None):\n",
    "    if val == None:\n",
    "        val = 0\n",
    "    if sum == None:\n",
    "        sum = 0\n",
    "    if len(str) == 0:\n",
    "        return sum\n",
    "    else:\n",
    "        if str[0] == '{':\n",
    "            stack.push(val+1)\n",
    "            print(\"Pushed \", val+1)\n",
    "            return process_brackets(str[1:], stack, val+1, sum)\n",
    "        elif str[0] == '}':\n",
    "            sum += stack.pop()\n",
    "            print(sum)\n",
    "            return process_brackets(str[1:], stack, val-1, sum)\n",
    "        else:\n",
    "            return process_brackets(str[1:], stack, val, sum)"
   ]
  },
  {
   "cell_type": "code",
   "execution_count": 39,
   "metadata": {},
   "outputs": [],
   "source": [
    "test_string = \"{{{},{},{{}}}}\""
   ]
  },
  {
   "cell_type": "code",
   "execution_count": 40,
   "metadata": {
    "scrolled": true
   },
   "outputs": [
    {
     "data": {
      "text/plain": [
       "'{{{}}}'"
      ]
     },
     "execution_count": 40,
     "metadata": {},
     "output_type": "execute_result"
    }
   ],
   "source": [
    "no_excl_string = remove_exclamations(test_string)\n",
    "no_excl_string"
   ]
  },
  {
   "cell_type": "code",
   "execution_count": 41,
   "metadata": {},
   "outputs": [
    {
     "data": {
      "text/plain": [
       "'{{{}}}'"
      ]
     },
     "execution_count": 41,
     "metadata": {},
     "output_type": "execute_result"
    }
   ],
   "source": [
    "cleaned_string = remove_garbage(no_excl_string)\n",
    "cleaned_string"
   ]
  },
  {
   "cell_type": "code",
   "execution_count": 42,
   "metadata": {},
   "outputs": [],
   "source": [
    "s = Stack()\n"
   ]
  },
  {
   "cell_type": "code",
   "execution_count": 43,
   "metadata": {},
   "outputs": [
    {
     "name": "stdout",
     "output_type": "stream",
     "text": [
      "Pushed  1\n",
      "Pushed  2\n",
      "Pushed  3\n",
      "3\n",
      "5\n",
      "6\n"
     ]
    }
   ],
   "source": [
    "sum = process_brackets(cleaned_string, s)"
   ]
  },
  {
   "cell_type": "code",
   "execution_count": null,
   "metadata": {},
   "outputs": [],
   "source": []
  }
 ],
 "metadata": {
  "kernelspec": {
   "display_name": "Python 3",
   "language": "python",
   "name": "python3"
  },
  "language_info": {
   "codemirror_mode": {
    "name": "ipython",
    "version": 3
   },
   "file_extension": ".py",
   "mimetype": "text/x-python",
   "name": "python",
   "nbconvert_exporter": "python",
   "pygments_lexer": "ipython3",
   "version": "3.6.5"
  }
 },
 "nbformat": 4,
 "nbformat_minor": 2
}
